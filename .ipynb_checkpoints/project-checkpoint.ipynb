{
 "cells": [
  {
   "cell_type": "code",
   "execution_count": 1,
   "metadata": {},
   "outputs": [],
   "source": [
    "# Dependencies\n",
    "\n",
    "from matplotlib import pyplot as plt\n",
    "import numpy as np\n",
    "import pandas as pd\n",
    "import matplotlib.pyplot as plt\n",
    "import requests\n",
    "from census import Census\n",
    "import gmaps\n",
    "from config import (gkey)\n",
    "\n",
    "# Configure gmaps\n",
    "gmaps.configure(api_key=gkey)"
   ]
  },
  {
   "cell_type": "code",
   "execution_count": 2,
   "metadata": {},
   "outputs": [
    {
     "data": {
      "text/html": [
       "<div>\n",
       "<style scoped>\n",
       "    .dataframe tbody tr th:only-of-type {\n",
       "        vertical-align: middle;\n",
       "    }\n",
       "\n",
       "    .dataframe tbody tr th {\n",
       "        vertical-align: top;\n",
       "    }\n",
       "\n",
       "    .dataframe thead th {\n",
       "        text-align: right;\n",
       "    }\n",
       "</style>\n",
       "<table border=\"1\" class=\"dataframe\">\n",
       "  <thead>\n",
       "    <tr style=\"text-align: right;\">\n",
       "      <th></th>\n",
       "      <th>ID</th>\n",
       "      <th>Type</th>\n",
       "      <th>Date</th>\n",
       "      <th>Time</th>\n",
       "      <th>Source</th>\n",
       "      <th>Lat (100)</th>\n",
       "      <th>Lon (100)</th>\n",
       "    </tr>\n",
       "  </thead>\n",
       "  <tbody>\n",
       "    <tr>\n",
       "      <th>0</th>\n",
       "      <td>5D69913</td>\n",
       "      <td>Multiple_Gunshots</td>\n",
       "      <td>1-Jan-17</td>\n",
       "      <td>0:00:06</td>\n",
       "      <td>WashingtonDC5D</td>\n",
       "      <td>38.909</td>\n",
       "      <td>-76.986</td>\n",
       "    </tr>\n",
       "    <tr>\n",
       "      <th>1</th>\n",
       "      <td>6D174826</td>\n",
       "      <td>Multiple_Gunshots</td>\n",
       "      <td>1-Jan-17</td>\n",
       "      <td>0:00:09</td>\n",
       "      <td>WashingtonDC6D</td>\n",
       "      <td>38.886</td>\n",
       "      <td>-76.951</td>\n",
       "    </tr>\n",
       "    <tr>\n",
       "      <th>2</th>\n",
       "      <td>4D58125</td>\n",
       "      <td>Multiple_Gunshots</td>\n",
       "      <td>1-Jan-17</td>\n",
       "      <td>0:00:12</td>\n",
       "      <td>WashingtonDC4D</td>\n",
       "      <td>38.950</td>\n",
       "      <td>-77.025</td>\n",
       "    </tr>\n",
       "    <tr>\n",
       "      <th>3</th>\n",
       "      <td>5D69915</td>\n",
       "      <td>Multiple_Gunshots</td>\n",
       "      <td>1-Jan-17</td>\n",
       "      <td>0:00:29</td>\n",
       "      <td>WashingtonDC5D</td>\n",
       "      <td>38.927</td>\n",
       "      <td>-76.974</td>\n",
       "    </tr>\n",
       "    <tr>\n",
       "      <th>4</th>\n",
       "      <td>4D58126</td>\n",
       "      <td>Multiple_Gunshots</td>\n",
       "      <td>1-Jan-17</td>\n",
       "      <td>0:00:36</td>\n",
       "      <td>WashingtonDC4D</td>\n",
       "      <td>38.943</td>\n",
       "      <td>-77.016</td>\n",
       "    </tr>\n",
       "  </tbody>\n",
       "</table>\n",
       "</div>"
      ],
      "text/plain": [
       "         ID               Type      Date     Time          Source  Lat (100)  \\\n",
       "0   5D69913  Multiple_Gunshots  1-Jan-17  0:00:06  WashingtonDC5D     38.909   \n",
       "1  6D174826  Multiple_Gunshots  1-Jan-17  0:00:09  WashingtonDC6D     38.886   \n",
       "2   4D58125  Multiple_Gunshots  1-Jan-17  0:00:12  WashingtonDC4D     38.950   \n",
       "3   5D69915  Multiple_Gunshots  1-Jan-17  0:00:29  WashingtonDC5D     38.927   \n",
       "4   4D58126  Multiple_Gunshots  1-Jan-17  0:00:36  WashingtonDC4D     38.943   \n",
       "\n",
       "   Lon (100)  \n",
       "0    -76.986  \n",
       "1    -76.951  \n",
       "2    -77.025  \n",
       "3    -76.974  \n",
       "4    -77.016  "
      ]
     },
     "execution_count": 2,
     "metadata": {},
     "output_type": "execute_result"
    }
   ],
   "source": [
    "shootingdata = pd.read_csv(\"./Resources/shotspotterdata.csv\")\n",
    "shootingdata.head()"
   ]
  },
  {
   "cell_type": "code",
   "execution_count": 3,
   "metadata": {},
   "outputs": [
    {
     "data": {
      "text/plain": [
       "Index(['ID', 'Type', 'Date', 'Time', 'Deparment', 'latitude', 'longitude'], dtype='object')"
      ]
     },
     "execution_count": 3,
     "metadata": {},
     "output_type": "execute_result"
    }
   ],
   "source": [
    "shootingdata = shootingdata.rename(columns={\"Source\": \"Deparment\", \"Lat (100)\": \"latitude\", \"Lon (100)\": \"longitude\"})\n",
    "shootingdata.columns"
   ]
  },
  {
   "cell_type": "code",
   "execution_count": 4,
   "metadata": {},
   "outputs": [
    {
     "data": {
      "text/html": [
       "<div>\n",
       "<style scoped>\n",
       "    .dataframe tbody tr th:only-of-type {\n",
       "        vertical-align: middle;\n",
       "    }\n",
       "\n",
       "    .dataframe tbody tr th {\n",
       "        vertical-align: top;\n",
       "    }\n",
       "\n",
       "    .dataframe thead th {\n",
       "        text-align: right;\n",
       "    }\n",
       "</style>\n",
       "<table border=\"1\" class=\"dataframe\">\n",
       "  <thead>\n",
       "    <tr style=\"text-align: right;\">\n",
       "      <th></th>\n",
       "      <th>ID</th>\n",
       "      <th>Type</th>\n",
       "      <th>Date</th>\n",
       "      <th>Time</th>\n",
       "      <th>Deparment</th>\n",
       "      <th>latitude</th>\n",
       "      <th>longitude</th>\n",
       "    </tr>\n",
       "  </thead>\n",
       "  <tbody>\n",
       "    <tr>\n",
       "      <th>0</th>\n",
       "      <td>5D69913</td>\n",
       "      <td>Multiple_Gunshots</td>\n",
       "      <td>1-Jan-17</td>\n",
       "      <td>0:00:06</td>\n",
       "      <td>WashingtonDC5D</td>\n",
       "      <td>38.909</td>\n",
       "      <td>-76.986</td>\n",
       "    </tr>\n",
       "    <tr>\n",
       "      <th>1</th>\n",
       "      <td>6D174826</td>\n",
       "      <td>Multiple_Gunshots</td>\n",
       "      <td>1-Jan-17</td>\n",
       "      <td>0:00:09</td>\n",
       "      <td>WashingtonDC6D</td>\n",
       "      <td>38.886</td>\n",
       "      <td>-76.951</td>\n",
       "    </tr>\n",
       "    <tr>\n",
       "      <th>2</th>\n",
       "      <td>4D58125</td>\n",
       "      <td>Multiple_Gunshots</td>\n",
       "      <td>1-Jan-17</td>\n",
       "      <td>0:00:12</td>\n",
       "      <td>WashingtonDC4D</td>\n",
       "      <td>38.950</td>\n",
       "      <td>-77.025</td>\n",
       "    </tr>\n",
       "    <tr>\n",
       "      <th>3</th>\n",
       "      <td>5D69915</td>\n",
       "      <td>Multiple_Gunshots</td>\n",
       "      <td>1-Jan-17</td>\n",
       "      <td>0:00:29</td>\n",
       "      <td>WashingtonDC5D</td>\n",
       "      <td>38.927</td>\n",
       "      <td>-76.974</td>\n",
       "    </tr>\n",
       "    <tr>\n",
       "      <th>4</th>\n",
       "      <td>4D58126</td>\n",
       "      <td>Multiple_Gunshots</td>\n",
       "      <td>1-Jan-17</td>\n",
       "      <td>0:00:36</td>\n",
       "      <td>WashingtonDC4D</td>\n",
       "      <td>38.943</td>\n",
       "      <td>-77.016</td>\n",
       "    </tr>\n",
       "  </tbody>\n",
       "</table>\n",
       "</div>"
      ],
      "text/plain": [
       "         ID               Type      Date     Time       Deparment  latitude  \\\n",
       "0   5D69913  Multiple_Gunshots  1-Jan-17  0:00:06  WashingtonDC5D    38.909   \n",
       "1  6D174826  Multiple_Gunshots  1-Jan-17  0:00:09  WashingtonDC6D    38.886   \n",
       "2   4D58125  Multiple_Gunshots  1-Jan-17  0:00:12  WashingtonDC4D    38.950   \n",
       "3   5D69915  Multiple_Gunshots  1-Jan-17  0:00:29  WashingtonDC5D    38.927   \n",
       "4   4D58126  Multiple_Gunshots  1-Jan-17  0:00:36  WashingtonDC4D    38.943   \n",
       "\n",
       "   longitude  \n",
       "0    -76.986  \n",
       "1    -76.951  \n",
       "2    -77.025  \n",
       "3    -76.974  \n",
       "4    -77.016  "
      ]
     },
     "execution_count": 4,
     "metadata": {},
     "output_type": "execute_result"
    }
   ],
   "source": [
    "shootingdata.head()"
   ]
  },
  {
   "cell_type": "code",
   "execution_count": 19,
   "metadata": {},
   "outputs": [
    {
     "data": {
      "application/vnd.jupyter.widget-view+json": {
       "model_id": "3dad49b0b76841388c18c2a9a69ef736",
       "version_major": 2,
       "version_minor": 0
      },
      "text/plain": [
       "Figure(layout=FigureLayout(height='420px'))"
      ]
     },
     "metadata": {},
     "output_type": "display_data"
    }
   ],
   "source": [
    "\n",
    "locations = shootingdata[['latitude', 'longitude']]\n",
    "\n",
    "fig = gmaps.figure()\n",
    "\n",
    "heat_layer = gmaps.heatmap_layer(locations,  \n",
    "                                 dissipating=False, max_intensity=1,\n",
    "                                 point_radius = 0.004)\n",
    "\n",
    "# Adjust heat_layer setting to help with heatmap dissipating on zoom\n",
    "heat_layer.dissipating = False\n",
    "heat_layer.max_intensity = 0.004\n",
    "heat_layer.point_radius = 0.004\n",
    "\n",
    "fig.add_layer(heat_layer)\n",
    "\n",
    "fig"
   ]
  },
  {
   "cell_type": "code",
   "execution_count": null,
   "metadata": {},
   "outputs": [],
   "source": []
  }
 ],
 "metadata": {
  "kernelspec": {
   "display_name": "Python 3",
   "language": "python",
   "name": "python3"
  },
  "language_info": {
   "codemirror_mode": {
    "name": "ipython",
    "version": 3
   },
   "file_extension": ".py",
   "mimetype": "text/x-python",
   "name": "python",
   "nbconvert_exporter": "python",
   "pygments_lexer": "ipython3",
   "version": "3.6.5"
  }
 },
 "nbformat": 4,
 "nbformat_minor": 2
}
